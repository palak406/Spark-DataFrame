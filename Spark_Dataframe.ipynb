{
 "cells": [
  {
   "cell_type": "markdown",
   "metadata": {},
   "source": [
    "<b><font size = \"4\">QUESTION 2:</b>\n",
    "<br>a) Create a single dataframe from all CSV files in the zip, with header information\n",
    "<br>b) Show the dataframe columns\n",
    "<br>c) Show the first 20 rows, sorted by (capacity descending, model ascending) \n",
    "<br>d) Count the total number of rows \n",
    "<br>e) Count the total number of rows, grouped by capacity \n",
    "<br>f) Get the dataframe summary statistics\n",
    "<br>g) Select the following columns: date, model, capacity\n",
    "<br>h) Select the number of distinct models \n",
    "<br>i) Calculate the pairwise frequency of this two columns (e.g. crosstab):  capacity, smart_1_normalized\n",
    "<br>j) Find the mean value of column capacity "
   ]
  },
  {
   "cell_type": "code",
   "execution_count": 2,
   "metadata": {},
   "outputs": [],
   "source": [
    "#Creating a SparkSession using Pyspark\n",
    "from pyspark.sql import SparkSession\n",
    "\"\"\n",
    "spark = SparkSession\\\n",
    "        .builder\\\n",
    "        .appName(\"BigDataQ2\")\\\n",
    "        .getOrCreate()"
   ]
  },
  {
   "cell_type": "markdown",
   "metadata": {},
   "source": [
    "<b><font size=\"4\"> Question 2(a) </b>"
   ]
  },
  {
   "cell_type": "code",
   "execution_count": 3,
   "metadata": {},
   "outputs": [],
   "source": [
    "#creating a dataframe by combining all CSV files in the zip, with header information \n",
    "#path of my local machine is given in .load. \n",
    "\n",
    "df_merged = spark.read.format(\"csv\") \\\n",
    ".option(\"header\", \"true\") \\\n",
    ".load(r\"C:\\Users\\palak\\Desktop\\college\\Big Data\\Data\\data_Q2_SP20\\drive_stats_2019_Q1\\*.csv\")"
   ]
  },
  {
   "cell_type": "code",
   "execution_count": 3,
   "metadata": {},
   "outputs": [
    {
     "name": "stdout",
     "output_type": "stream",
     "text": [
      "root\n",
      " |-- date: string (nullable = true)\n",
      " |-- serial_number: string (nullable = true)\n",
      " |-- model: string (nullable = true)\n",
      " |-- capacity_bytes: string (nullable = true)\n",
      " |-- failure: string (nullable = true)\n",
      " |-- smart_1_normalized: string (nullable = true)\n",
      " |-- smart_1_raw: string (nullable = true)\n",
      " |-- smart_2_normalized: string (nullable = true)\n",
      " |-- smart_2_raw: string (nullable = true)\n",
      " |-- smart_3_normalized: string (nullable = true)\n",
      " |-- smart_3_raw: string (nullable = true)\n",
      " |-- smart_4_normalized: string (nullable = true)\n",
      " |-- smart_4_raw: string (nullable = true)\n",
      " |-- smart_5_normalized: string (nullable = true)\n",
      " |-- smart_5_raw: string (nullable = true)\n",
      " |-- smart_7_normalized: string (nullable = true)\n",
      " |-- smart_7_raw: string (nullable = true)\n",
      " |-- smart_8_normalized: string (nullable = true)\n",
      " |-- smart_8_raw: string (nullable = true)\n",
      " |-- smart_9_normalized: string (nullable = true)\n",
      " |-- smart_9_raw: string (nullable = true)\n",
      " |-- smart_10_normalized: string (nullable = true)\n",
      " |-- smart_10_raw: string (nullable = true)\n",
      " |-- smart_11_normalized: string (nullable = true)\n",
      " |-- smart_11_raw: string (nullable = true)\n",
      " |-- smart_12_normalized: string (nullable = true)\n",
      " |-- smart_12_raw: string (nullable = true)\n",
      " |-- smart_13_normalized: string (nullable = true)\n",
      " |-- smart_13_raw: string (nullable = true)\n",
      " |-- smart_15_normalized: string (nullable = true)\n",
      " |-- smart_15_raw: string (nullable = true)\n",
      " |-- smart_16_normalized: string (nullable = true)\n",
      " |-- smart_16_raw: string (nullable = true)\n",
      " |-- smart_17_normalized: string (nullable = true)\n",
      " |-- smart_17_raw: string (nullable = true)\n",
      " |-- smart_22_normalized: string (nullable = true)\n",
      " |-- smart_22_raw: string (nullable = true)\n",
      " |-- smart_23_normalized: string (nullable = true)\n",
      " |-- smart_23_raw: string (nullable = true)\n",
      " |-- smart_24_normalized: string (nullable = true)\n",
      " |-- smart_24_raw: string (nullable = true)\n",
      " |-- smart_168_normalized: string (nullable = true)\n",
      " |-- smart_168_raw: string (nullable = true)\n",
      " |-- smart_170_normalized: string (nullable = true)\n",
      " |-- smart_170_raw: string (nullable = true)\n",
      " |-- smart_173_normalized: string (nullable = true)\n",
      " |-- smart_173_raw: string (nullable = true)\n",
      " |-- smart_174_normalized: string (nullable = true)\n",
      " |-- smart_174_raw: string (nullable = true)\n",
      " |-- smart_177_normalized: string (nullable = true)\n",
      " |-- smart_177_raw: string (nullable = true)\n",
      " |-- smart_179_normalized: string (nullable = true)\n",
      " |-- smart_179_raw: string (nullable = true)\n",
      " |-- smart_181_normalized: string (nullable = true)\n",
      " |-- smart_181_raw: string (nullable = true)\n",
      " |-- smart_182_normalized: string (nullable = true)\n",
      " |-- smart_182_raw: string (nullable = true)\n",
      " |-- smart_183_normalized: string (nullable = true)\n",
      " |-- smart_183_raw: string (nullable = true)\n",
      " |-- smart_184_normalized: string (nullable = true)\n",
      " |-- smart_184_raw: string (nullable = true)\n",
      " |-- smart_187_normalized: string (nullable = true)\n",
      " |-- smart_187_raw: string (nullable = true)\n",
      " |-- smart_188_normalized: string (nullable = true)\n",
      " |-- smart_188_raw: string (nullable = true)\n",
      " |-- smart_189_normalized: string (nullable = true)\n",
      " |-- smart_189_raw: string (nullable = true)\n",
      " |-- smart_190_normalized: string (nullable = true)\n",
      " |-- smart_190_raw: string (nullable = true)\n",
      " |-- smart_191_normalized: string (nullable = true)\n",
      " |-- smart_191_raw: string (nullable = true)\n",
      " |-- smart_192_normalized: string (nullable = true)\n",
      " |-- smart_192_raw: string (nullable = true)\n",
      " |-- smart_193_normalized: string (nullable = true)\n",
      " |-- smart_193_raw: string (nullable = true)\n",
      " |-- smart_194_normalized: string (nullable = true)\n",
      " |-- smart_194_raw: string (nullable = true)\n",
      " |-- smart_195_normalized: string (nullable = true)\n",
      " |-- smart_195_raw: string (nullable = true)\n",
      " |-- smart_196_normalized: string (nullable = true)\n",
      " |-- smart_196_raw: string (nullable = true)\n",
      " |-- smart_197_normalized: string (nullable = true)\n",
      " |-- smart_197_raw: string (nullable = true)\n",
      " |-- smart_198_normalized: string (nullable = true)\n",
      " |-- smart_198_raw: string (nullable = true)\n",
      " |-- smart_199_normalized: string (nullable = true)\n",
      " |-- smart_199_raw: string (nullable = true)\n",
      " |-- smart_200_normalized: string (nullable = true)\n",
      " |-- smart_200_raw: string (nullable = true)\n",
      " |-- smart_201_normalized: string (nullable = true)\n",
      " |-- smart_201_raw: string (nullable = true)\n",
      " |-- smart_218_normalized: string (nullable = true)\n",
      " |-- smart_218_raw: string (nullable = true)\n",
      " |-- smart_220_normalized: string (nullable = true)\n",
      " |-- smart_220_raw: string (nullable = true)\n",
      " |-- smart_222_normalized: string (nullable = true)\n",
      " |-- smart_222_raw: string (nullable = true)\n",
      " |-- smart_223_normalized: string (nullable = true)\n",
      " |-- smart_223_raw: string (nullable = true)\n",
      " |-- smart_224_normalized: string (nullable = true)\n",
      " |-- smart_224_raw: string (nullable = true)\n",
      " |-- smart_225_normalized: string (nullable = true)\n",
      " |-- smart_225_raw: string (nullable = true)\n",
      " |-- smart_226_normalized: string (nullable = true)\n",
      " |-- smart_226_raw: string (nullable = true)\n",
      " |-- smart_231_normalized: string (nullable = true)\n",
      " |-- smart_231_raw: string (nullable = true)\n",
      " |-- smart_232_normalized: string (nullable = true)\n",
      " |-- smart_232_raw: string (nullable = true)\n",
      " |-- smart_233_normalized: string (nullable = true)\n",
      " |-- smart_233_raw: string (nullable = true)\n",
      " |-- smart_235_normalized: string (nullable = true)\n",
      " |-- smart_235_raw: string (nullable = true)\n",
      " |-- smart_240_normalized: string (nullable = true)\n",
      " |-- smart_240_raw: string (nullable = true)\n",
      " |-- smart_241_normalized: string (nullable = true)\n",
      " |-- smart_241_raw: string (nullable = true)\n",
      " |-- smart_242_normalized: string (nullable = true)\n",
      " |-- smart_242_raw: string (nullable = true)\n",
      " |-- smart_250_normalized: string (nullable = true)\n",
      " |-- smart_250_raw: string (nullable = true)\n",
      " |-- smart_251_normalized: string (nullable = true)\n",
      " |-- smart_251_raw: string (nullable = true)\n",
      " |-- smart_252_normalized: string (nullable = true)\n",
      " |-- smart_252_raw: string (nullable = true)\n",
      " |-- smart_254_normalized: string (nullable = true)\n",
      " |-- smart_254_raw: string (nullable = true)\n",
      " |-- smart_255_normalized: string (nullable = true)\n",
      " |-- smart_255_raw: string (nullable = true)\n",
      "\n"
     ]
    }
   ],
   "source": [
    "#Printing the schema\n",
    "df_merged.printSchema()"
   ]
  },
  {
   "cell_type": "markdown",
   "metadata": {},
   "source": [
    "<b><font size=\"4\">Question 2(b)"
   ]
  },
  {
   "cell_type": "code",
   "execution_count": 4,
   "metadata": {},
   "outputs": [
    {
     "data": {
      "text/plain": [
       "['date',\n",
       " 'serial_number',\n",
       " 'model',\n",
       " 'capacity_bytes',\n",
       " 'failure',\n",
       " 'smart_1_normalized',\n",
       " 'smart_1_raw',\n",
       " 'smart_2_normalized',\n",
       " 'smart_2_raw',\n",
       " 'smart_3_normalized',\n",
       " 'smart_3_raw',\n",
       " 'smart_4_normalized',\n",
       " 'smart_4_raw',\n",
       " 'smart_5_normalized',\n",
       " 'smart_5_raw',\n",
       " 'smart_7_normalized',\n",
       " 'smart_7_raw',\n",
       " 'smart_8_normalized',\n",
       " 'smart_8_raw',\n",
       " 'smart_9_normalized',\n",
       " 'smart_9_raw',\n",
       " 'smart_10_normalized',\n",
       " 'smart_10_raw',\n",
       " 'smart_11_normalized',\n",
       " 'smart_11_raw',\n",
       " 'smart_12_normalized',\n",
       " 'smart_12_raw',\n",
       " 'smart_13_normalized',\n",
       " 'smart_13_raw',\n",
       " 'smart_15_normalized',\n",
       " 'smart_15_raw',\n",
       " 'smart_16_normalized',\n",
       " 'smart_16_raw',\n",
       " 'smart_17_normalized',\n",
       " 'smart_17_raw',\n",
       " 'smart_22_normalized',\n",
       " 'smart_22_raw',\n",
       " 'smart_23_normalized',\n",
       " 'smart_23_raw',\n",
       " 'smart_24_normalized',\n",
       " 'smart_24_raw',\n",
       " 'smart_168_normalized',\n",
       " 'smart_168_raw',\n",
       " 'smart_170_normalized',\n",
       " 'smart_170_raw',\n",
       " 'smart_173_normalized',\n",
       " 'smart_173_raw',\n",
       " 'smart_174_normalized',\n",
       " 'smart_174_raw',\n",
       " 'smart_177_normalized',\n",
       " 'smart_177_raw',\n",
       " 'smart_179_normalized',\n",
       " 'smart_179_raw',\n",
       " 'smart_181_normalized',\n",
       " 'smart_181_raw',\n",
       " 'smart_182_normalized',\n",
       " 'smart_182_raw',\n",
       " 'smart_183_normalized',\n",
       " 'smart_183_raw',\n",
       " 'smart_184_normalized',\n",
       " 'smart_184_raw',\n",
       " 'smart_187_normalized',\n",
       " 'smart_187_raw',\n",
       " 'smart_188_normalized',\n",
       " 'smart_188_raw',\n",
       " 'smart_189_normalized',\n",
       " 'smart_189_raw',\n",
       " 'smart_190_normalized',\n",
       " 'smart_190_raw',\n",
       " 'smart_191_normalized',\n",
       " 'smart_191_raw',\n",
       " 'smart_192_normalized',\n",
       " 'smart_192_raw',\n",
       " 'smart_193_normalized',\n",
       " 'smart_193_raw',\n",
       " 'smart_194_normalized',\n",
       " 'smart_194_raw',\n",
       " 'smart_195_normalized',\n",
       " 'smart_195_raw',\n",
       " 'smart_196_normalized',\n",
       " 'smart_196_raw',\n",
       " 'smart_197_normalized',\n",
       " 'smart_197_raw',\n",
       " 'smart_198_normalized',\n",
       " 'smart_198_raw',\n",
       " 'smart_199_normalized',\n",
       " 'smart_199_raw',\n",
       " 'smart_200_normalized',\n",
       " 'smart_200_raw',\n",
       " 'smart_201_normalized',\n",
       " 'smart_201_raw',\n",
       " 'smart_218_normalized',\n",
       " 'smart_218_raw',\n",
       " 'smart_220_normalized',\n",
       " 'smart_220_raw',\n",
       " 'smart_222_normalized',\n",
       " 'smart_222_raw',\n",
       " 'smart_223_normalized',\n",
       " 'smart_223_raw',\n",
       " 'smart_224_normalized',\n",
       " 'smart_224_raw',\n",
       " 'smart_225_normalized',\n",
       " 'smart_225_raw',\n",
       " 'smart_226_normalized',\n",
       " 'smart_226_raw',\n",
       " 'smart_231_normalized',\n",
       " 'smart_231_raw',\n",
       " 'smart_232_normalized',\n",
       " 'smart_232_raw',\n",
       " 'smart_233_normalized',\n",
       " 'smart_233_raw',\n",
       " 'smart_235_normalized',\n",
       " 'smart_235_raw',\n",
       " 'smart_240_normalized',\n",
       " 'smart_240_raw',\n",
       " 'smart_241_normalized',\n",
       " 'smart_241_raw',\n",
       " 'smart_242_normalized',\n",
       " 'smart_242_raw',\n",
       " 'smart_250_normalized',\n",
       " 'smart_250_raw',\n",
       " 'smart_251_normalized',\n",
       " 'smart_251_raw',\n",
       " 'smart_252_normalized',\n",
       " 'smart_252_raw',\n",
       " 'smart_254_normalized',\n",
       " 'smart_254_raw',\n",
       " 'smart_255_normalized',\n",
       " 'smart_255_raw']"
      ]
     },
     "execution_count": 4,
     "metadata": {},
     "output_type": "execute_result"
    }
   ],
   "source": [
    "#Printing all the column names of the dataframe\n",
    "df_merged.columns"
   ]
  },
  {
   "cell_type": "markdown",
   "metadata": {},
   "source": [
    "<b><font size=\"4\"> Question 2(c)"
   ]
  },
  {
   "cell_type": "code",
   "execution_count": 1,
   "metadata": {},
   "outputs": [],
   "source": [
    "#Importing sql functions \n",
    "from pyspark.sql.functions import asc,col,lit,avg,desc"
   ]
  },
  {
   "cell_type": "code",
   "execution_count": 18,
   "metadata": {},
   "outputs": [
    {
     "name": "stdout",
     "output_type": "stream",
     "text": [
      "+----------+----------------+-----------+--------------+-------+------------------+-----------+------------------+-----------+------------------+-----------+------------------+-----------+------------------+-----------+------------------+-----------+------------------+-----------+------------------+-----------+-------------------+------------+-------------------+------------+-------------------+------------+-------------------+------------+-------------------+------------+-------------------+------------+-------------------+------------+-------------------+------------+-------------------+------------+-------------------+------------+--------------------+-------------+--------------------+-------------+--------------------+-------------+--------------------+-------------+--------------------+-------------+--------------------+-------------+--------------------+-------------+--------------------+-------------+--------------------+-------------+--------------------+-------------+--------------------+-------------+--------------------+-------------+--------------------+-------------+--------------------+-------------+--------------------+-------------+--------------------+-------------+--------------------+-------------+--------------------+-------------+--------------------+-------------+--------------------+-------------+--------------------+-------------+--------------------+-------------+--------------------+-------------+--------------------+-------------+--------------------+-------------+--------------------+-------------+--------------------+-------------+--------------------+-------------+--------------------+-------------+--------------------+-------------+--------------------+-------------+--------------------+-------------+--------------------+-------------+--------------------+-------------+--------------------+-------------+--------------------+-------------+--------------------+-------------+--------------------+-------------+--------------------+-------------+--------------------+-------------+--------------------+-------------+--------------------+-------------+--------------------+-------------+--------------------+-------------+\n",
      "|      date|   serial_number|      model|capacity_bytes|failure|smart_1_normalized|smart_1_raw|smart_2_normalized|smart_2_raw|smart_3_normalized|smart_3_raw|smart_4_normalized|smart_4_raw|smart_5_normalized|smart_5_raw|smart_7_normalized|smart_7_raw|smart_8_normalized|smart_8_raw|smart_9_normalized|smart_9_raw|smart_10_normalized|smart_10_raw|smart_11_normalized|smart_11_raw|smart_12_normalized|smart_12_raw|smart_13_normalized|smart_13_raw|smart_15_normalized|smart_15_raw|smart_16_normalized|smart_16_raw|smart_17_normalized|smart_17_raw|smart_22_normalized|smart_22_raw|smart_23_normalized|smart_23_raw|smart_24_normalized|smart_24_raw|smart_168_normalized|smart_168_raw|smart_170_normalized|smart_170_raw|smart_173_normalized|smart_173_raw|smart_174_normalized|smart_174_raw|smart_177_normalized|smart_177_raw|smart_179_normalized|smart_179_raw|smart_181_normalized|smart_181_raw|smart_182_normalized|smart_182_raw|smart_183_normalized|smart_183_raw|smart_184_normalized|smart_184_raw|smart_187_normalized|smart_187_raw|smart_188_normalized|smart_188_raw|smart_189_normalized|smart_189_raw|smart_190_normalized|smart_190_raw|smart_191_normalized|smart_191_raw|smart_192_normalized|smart_192_raw|smart_193_normalized|smart_193_raw|smart_194_normalized|smart_194_raw|smart_195_normalized|smart_195_raw|smart_196_normalized|smart_196_raw|smart_197_normalized|smart_197_raw|smart_198_normalized|smart_198_raw|smart_199_normalized|smart_199_raw|smart_200_normalized|smart_200_raw|smart_201_normalized|smart_201_raw|smart_218_normalized|smart_218_raw|smart_220_normalized|smart_220_raw|smart_222_normalized|smart_222_raw|smart_223_normalized|smart_223_raw|smart_224_normalized|smart_224_raw|smart_225_normalized|smart_225_raw|smart_226_normalized|smart_226_raw|smart_231_normalized|smart_231_raw|smart_232_normalized|smart_232_raw|smart_233_normalized|smart_233_raw|smart_235_normalized|smart_235_raw|smart_240_normalized|smart_240_raw|smart_241_normalized|smart_241_raw|smart_242_normalized|smart_242_raw|smart_250_normalized|smart_250_raw|smart_251_normalized|smart_251_raw|smart_252_normalized|smart_252_raw|smart_254_normalized|smart_254_raw|smart_255_normalized|smart_255_raw|\n",
      "+----------+----------------+-----------+--------------+-------+------------------+-----------+------------------+-----------+------------------+-----------+------------------+-----------+------------------+-----------+------------------+-----------+------------------+-----------+------------------+-----------+-------------------+------------+-------------------+------------+-------------------+------------+-------------------+------------+-------------------+------------+-------------------+------------+-------------------+------------+-------------------+------------+-------------------+------------+-------------------+------------+--------------------+-------------+--------------------+-------------+--------------------+-------------+--------------------+-------------+--------------------+-------------+--------------------+-------------+--------------------+-------------+--------------------+-------------+--------------------+-------------+--------------------+-------------+--------------------+-------------+--------------------+-------------+--------------------+-------------+--------------------+-------------+--------------------+-------------+--------------------+-------------+--------------------+-------------+--------------------+-------------+--------------------+-------------+--------------------+-------------+--------------------+-------------+--------------------+-------------+--------------------+-------------+--------------------+-------------+--------------------+-------------+--------------------+-------------+--------------------+-------------+--------------------+-------------+--------------------+-------------+--------------------+-------------+--------------------+-------------+--------------------+-------------+--------------------+-------------+--------------------+-------------+--------------------+-------------+--------------------+-------------+--------------------+-------------+--------------------+-------------+--------------------+-------------+--------------------+-------------+--------------------+-------------+--------------------+-------------+--------------------+-------------+--------------------+-------------+\n",
      "|2019-03-13|9ac75f2107cc0010|DELLBOSS VD|  480036847616|      0|              null|       null|              null|       null|              null|       null|              null|       null|              null|       null|              null|       null|              null|       null|              null|       null|               null|        null|               null|        null|               null|        null|               null|        null|               null|        null|               null|        null|               null|        null|               null|        null|               null|        null|               null|        null|                null|         null|                null|         null|                null|         null|                null|         null|                null|         null|                null|         null|                null|         null|                null|         null|                null|         null|                null|         null|                null|         null|                null|         null|                null|         null|                null|         null|                null|         null|                null|         null|                null|         null|                null|         null|                null|         null|                null|         null|                null|         null|                null|         null|                null|         null|                null|         null|                null|         null|                null|         null|                null|         null|                null|         null|                null|         null|                null|         null|                null|         null|                null|         null|                null|         null|                null|         null|                null|         null|                null|         null|                null|         null|                null|         null|                null|         null|                null|         null|                null|         null|                null|         null|                null|         null|                null|         null|\n",
      "|2019-03-13|826fc283ec560010|DELLBOSS VD|  480036847616|      0|              null|       null|              null|       null|              null|       null|              null|       null|              null|       null|              null|       null|              null|       null|              null|       null|               null|        null|               null|        null|               null|        null|               null|        null|               null|        null|               null|        null|               null|        null|               null|        null|               null|        null|               null|        null|                null|         null|                null|         null|                null|         null|                null|         null|                null|         null|                null|         null|                null|         null|                null|         null|                null|         null|                null|         null|                null|         null|                null|         null|                null|         null|                null|         null|                null|         null|                null|         null|                null|         null|                null|         null|                null|         null|                null|         null|                null|         null|                null|         null|                null|         null|                null|         null|                null|         null|                null|         null|                null|         null|                null|         null|                null|         null|                null|         null|                null|         null|                null|         null|                null|         null|                null|         null|                null|         null|                null|         null|                null|         null|                null|         null|                null|         null|                null|         null|                null|         null|                null|         null|                null|         null|                null|         null|\n",
      "|2019-03-13|3b8f38bf6bc90010|DELLBOSS VD|  480036847616|      0|              null|       null|              null|       null|              null|       null|              null|       null|              null|       null|              null|       null|              null|       null|              null|       null|               null|        null|               null|        null|               null|        null|               null|        null|               null|        null|               null|        null|               null|        null|               null|        null|               null|        null|               null|        null|                null|         null|                null|         null|                null|         null|                null|         null|                null|         null|                null|         null|                null|         null|                null|         null|                null|         null|                null|         null|                null|         null|                null|         null|                null|         null|                null|         null|                null|         null|                null|         null|                null|         null|                null|         null|                null|         null|                null|         null|                null|         null|                null|         null|                null|         null|                null|         null|                null|         null|                null|         null|                null|         null|                null|         null|                null|         null|                null|         null|                null|         null|                null|         null|                null|         null|                null|         null|                null|         null|                null|         null|                null|         null|                null|         null|                null|         null|                null|         null|                null|         null|                null|         null|                null|         null|                null|         null|\n",
      "|2019-03-13|ef29e2d545380010|DELLBOSS VD|  480036847616|      0|              null|       null|              null|       null|              null|       null|              null|       null|              null|       null|              null|       null|              null|       null|              null|       null|               null|        null|               null|        null|               null|        null|               null|        null|               null|        null|               null|        null|               null|        null|               null|        null|               null|        null|               null|        null|                null|         null|                null|         null|                null|         null|                null|         null|                null|         null|                null|         null|                null|         null|                null|         null|                null|         null|                null|         null|                null|         null|                null|         null|                null|         null|                null|         null|                null|         null|                null|         null|                null|         null|                null|         null|                null|         null|                null|         null|                null|         null|                null|         null|                null|         null|                null|         null|                null|         null|                null|         null|                null|         null|                null|         null|                null|         null|                null|         null|                null|         null|                null|         null|                null|         null|                null|         null|                null|         null|                null|         null|                null|         null|                null|         null|                null|         null|                null|         null|                null|         null|                null|         null|                null|         null|                null|         null|\n",
      "|2019-03-13|eef069c94dfb0010|DELLBOSS VD|  480036847616|      0|              null|       null|              null|       null|              null|       null|              null|       null|              null|       null|              null|       null|              null|       null|              null|       null|               null|        null|               null|        null|               null|        null|               null|        null|               null|        null|               null|        null|               null|        null|               null|        null|               null|        null|               null|        null|                null|         null|                null|         null|                null|         null|                null|         null|                null|         null|                null|         null|                null|         null|                null|         null|                null|         null|                null|         null|                null|         null|                null|         null|                null|         null|                null|         null|                null|         null|                null|         null|                null|         null|                null|         null|                null|         null|                null|         null|                null|         null|                null|         null|                null|         null|                null|         null|                null|         null|                null|         null|                null|         null|                null|         null|                null|         null|                null|         null|                null|         null|                null|         null|                null|         null|                null|         null|                null|         null|                null|         null|                null|         null|                null|         null|                null|         null|                null|         null|                null|         null|                null|         null|                null|         null|                null|         null|\n",
      "|2019-03-13|a79beabda2020010|DELLBOSS VD|  480036847616|      0|              null|       null|              null|       null|              null|       null|              null|       null|              null|       null|              null|       null|              null|       null|              null|       null|               null|        null|               null|        null|               null|        null|               null|        null|               null|        null|               null|        null|               null|        null|               null|        null|               null|        null|               null|        null|                null|         null|                null|         null|                null|         null|                null|         null|                null|         null|                null|         null|                null|         null|                null|         null|                null|         null|                null|         null|                null|         null|                null|         null|                null|         null|                null|         null|                null|         null|                null|         null|                null|         null|                null|         null|                null|         null|                null|         null|                null|         null|                null|         null|                null|         null|                null|         null|                null|         null|                null|         null|                null|         null|                null|         null|                null|         null|                null|         null|                null|         null|                null|         null|                null|         null|                null|         null|                null|         null|                null|         null|                null|         null|                null|         null|                null|         null|                null|         null|                null|         null|                null|         null|                null|         null|                null|         null|\n",
      "|2019-03-13|5c2f968553650010|DELLBOSS VD|  480036847616|      0|              null|       null|              null|       null|              null|       null|              null|       null|              null|       null|              null|       null|              null|       null|              null|       null|               null|        null|               null|        null|               null|        null|               null|        null|               null|        null|               null|        null|               null|        null|               null|        null|               null|        null|               null|        null|                null|         null|                null|         null|                null|         null|                null|         null|                null|         null|                null|         null|                null|         null|                null|         null|                null|         null|                null|         null|                null|         null|                null|         null|                null|         null|                null|         null|                null|         null|                null|         null|                null|         null|                null|         null|                null|         null|                null|         null|                null|         null|                null|         null|                null|         null|                null|         null|                null|         null|                null|         null|                null|         null|                null|         null|                null|         null|                null|         null|                null|         null|                null|         null|                null|         null|                null|         null|                null|         null|                null|         null|                null|         null|                null|         null|                null|         null|                null|         null|                null|         null|                null|         null|                null|         null|                null|         null|\n",
      "|2019-03-13|17eddeea3c620010|DELLBOSS VD|  480036847616|      0|              null|       null|              null|       null|              null|       null|              null|       null|              null|       null|              null|       null|              null|       null|              null|       null|               null|        null|               null|        null|               null|        null|               null|        null|               null|        null|               null|        null|               null|        null|               null|        null|               null|        null|               null|        null|                null|         null|                null|         null|                null|         null|                null|         null|                null|         null|                null|         null|                null|         null|                null|         null|                null|         null|                null|         null|                null|         null|                null|         null|                null|         null|                null|         null|                null|         null|                null|         null|                null|         null|                null|         null|                null|         null|                null|         null|                null|         null|                null|         null|                null|         null|                null|         null|                null|         null|                null|         null|                null|         null|                null|         null|                null|         null|                null|         null|                null|         null|                null|         null|                null|         null|                null|         null|                null|         null|                null|         null|                null|         null|                null|         null|                null|         null|                null|         null|                null|         null|                null|         null|                null|         null|                null|         null|\n",
      "|2019-03-13|a941d1eaf0160010|DELLBOSS VD|  480036847616|      0|              null|       null|              null|       null|              null|       null|              null|       null|              null|       null|              null|       null|              null|       null|              null|       null|               null|        null|               null|        null|               null|        null|               null|        null|               null|        null|               null|        null|               null|        null|               null|        null|               null|        null|               null|        null|                null|         null|                null|         null|                null|         null|                null|         null|                null|         null|                null|         null|                null|         null|                null|         null|                null|         null|                null|         null|                null|         null|                null|         null|                null|         null|                null|         null|                null|         null|                null|         null|                null|         null|                null|         null|                null|         null|                null|         null|                null|         null|                null|         null|                null|         null|                null|         null|                null|         null|                null|         null|                null|         null|                null|         null|                null|         null|                null|         null|                null|         null|                null|         null|                null|         null|                null|         null|                null|         null|                null|         null|                null|         null|                null|         null|                null|         null|                null|         null|                null|         null|                null|         null|                null|         null|                null|         null|\n",
      "|2019-03-13|13a2651c44500010|DELLBOSS VD|  480036847616|      0|              null|       null|              null|       null|              null|       null|              null|       null|              null|       null|              null|       null|              null|       null|              null|       null|               null|        null|               null|        null|               null|        null|               null|        null|               null|        null|               null|        null|               null|        null|               null|        null|               null|        null|               null|        null|                null|         null|                null|         null|                null|         null|                null|         null|                null|         null|                null|         null|                null|         null|                null|         null|                null|         null|                null|         null|                null|         null|                null|         null|                null|         null|                null|         null|                null|         null|                null|         null|                null|         null|                null|         null|                null|         null|                null|         null|                null|         null|                null|         null|                null|         null|                null|         null|                null|         null|                null|         null|                null|         null|                null|         null|                null|         null|                null|         null|                null|         null|                null|         null|                null|         null|                null|         null|                null|         null|                null|         null|                null|         null|                null|         null|                null|         null|                null|         null|                null|         null|                null|         null|                null|         null|                null|         null|\n",
      "|2019-03-13|b86976e2b7490010|DELLBOSS VD|  480036847616|      0|              null|       null|              null|       null|              null|       null|              null|       null|              null|       null|              null|       null|              null|       null|              null|       null|               null|        null|               null|        null|               null|        null|               null|        null|               null|        null|               null|        null|               null|        null|               null|        null|               null|        null|               null|        null|                null|         null|                null|         null|                null|         null|                null|         null|                null|         null|                null|         null|                null|         null|                null|         null|                null|         null|                null|         null|                null|         null|                null|         null|                null|         null|                null|         null|                null|         null|                null|         null|                null|         null|                null|         null|                null|         null|                null|         null|                null|         null|                null|         null|                null|         null|                null|         null|                null|         null|                null|         null|                null|         null|                null|         null|                null|         null|                null|         null|                null|         null|                null|         null|                null|         null|                null|         null|                null|         null|                null|         null|                null|         null|                null|         null|                null|         null|                null|         null|                null|         null|                null|         null|                null|         null|                null|         null|\n",
      "|2019-03-13|45f3334ff98c0010|DELLBOSS VD|  480036847616|      0|              null|       null|              null|       null|              null|       null|              null|       null|              null|       null|              null|       null|              null|       null|              null|       null|               null|        null|               null|        null|               null|        null|               null|        null|               null|        null|               null|        null|               null|        null|               null|        null|               null|        null|               null|        null|                null|         null|                null|         null|                null|         null|                null|         null|                null|         null|                null|         null|                null|         null|                null|         null|                null|         null|                null|         null|                null|         null|                null|         null|                null|         null|                null|         null|                null|         null|                null|         null|                null|         null|                null|         null|                null|         null|                null|         null|                null|         null|                null|         null|                null|         null|                null|         null|                null|         null|                null|         null|                null|         null|                null|         null|                null|         null|                null|         null|                null|         null|                null|         null|                null|         null|                null|         null|                null|         null|                null|         null|                null|         null|                null|         null|                null|         null|                null|         null|                null|         null|                null|         null|                null|         null|                null|         null|\n",
      "|2019-03-13|37e5a52d44600010|DELLBOSS VD|  480036847616|      0|              null|       null|              null|       null|              null|       null|              null|       null|              null|       null|              null|       null|              null|       null|              null|       null|               null|        null|               null|        null|               null|        null|               null|        null|               null|        null|               null|        null|               null|        null|               null|        null|               null|        null|               null|        null|                null|         null|                null|         null|                null|         null|                null|         null|                null|         null|                null|         null|                null|         null|                null|         null|                null|         null|                null|         null|                null|         null|                null|         null|                null|         null|                null|         null|                null|         null|                null|         null|                null|         null|                null|         null|                null|         null|                null|         null|                null|         null|                null|         null|                null|         null|                null|         null|                null|         null|                null|         null|                null|         null|                null|         null|                null|         null|                null|         null|                null|         null|                null|         null|                null|         null|                null|         null|                null|         null|                null|         null|                null|         null|                null|         null|                null|         null|                null|         null|                null|         null|                null|         null|                null|         null|                null|         null|\n",
      "|2019-03-13|dc85a3f97d6f0010|DELLBOSS VD|  480036847616|      0|              null|       null|              null|       null|              null|       null|              null|       null|              null|       null|              null|       null|              null|       null|              null|       null|               null|        null|               null|        null|               null|        null|               null|        null|               null|        null|               null|        null|               null|        null|               null|        null|               null|        null|               null|        null|                null|         null|                null|         null|                null|         null|                null|         null|                null|         null|                null|         null|                null|         null|                null|         null|                null|         null|                null|         null|                null|         null|                null|         null|                null|         null|                null|         null|                null|         null|                null|         null|                null|         null|                null|         null|                null|         null|                null|         null|                null|         null|                null|         null|                null|         null|                null|         null|                null|         null|                null|         null|                null|         null|                null|         null|                null|         null|                null|         null|                null|         null|                null|         null|                null|         null|                null|         null|                null|         null|                null|         null|                null|         null|                null|         null|                null|         null|                null|         null|                null|         null|                null|         null|                null|         null|                null|         null|\n",
      "|2019-03-13|cce2cfe98b7f0010|DELLBOSS VD|  480036847616|      0|              null|       null|              null|       null|              null|       null|              null|       null|              null|       null|              null|       null|              null|       null|              null|       null|               null|        null|               null|        null|               null|        null|               null|        null|               null|        null|               null|        null|               null|        null|               null|        null|               null|        null|               null|        null|                null|         null|                null|         null|                null|         null|                null|         null|                null|         null|                null|         null|                null|         null|                null|         null|                null|         null|                null|         null|                null|         null|                null|         null|                null|         null|                null|         null|                null|         null|                null|         null|                null|         null|                null|         null|                null|         null|                null|         null|                null|         null|                null|         null|                null|         null|                null|         null|                null|         null|                null|         null|                null|         null|                null|         null|                null|         null|                null|         null|                null|         null|                null|         null|                null|         null|                null|         null|                null|         null|                null|         null|                null|         null|                null|         null|                null|         null|                null|         null|                null|         null|                null|         null|                null|         null|                null|         null|\n",
      "|2019-03-13|7818d2d7bc260010|DELLBOSS VD|  480036847616|      0|              null|       null|              null|       null|              null|       null|              null|       null|              null|       null|              null|       null|              null|       null|              null|       null|               null|        null|               null|        null|               null|        null|               null|        null|               null|        null|               null|        null|               null|        null|               null|        null|               null|        null|               null|        null|                null|         null|                null|         null|                null|         null|                null|         null|                null|         null|                null|         null|                null|         null|                null|         null|                null|         null|                null|         null|                null|         null|                null|         null|                null|         null|                null|         null|                null|         null|                null|         null|                null|         null|                null|         null|                null|         null|                null|         null|                null|         null|                null|         null|                null|         null|                null|         null|                null|         null|                null|         null|                null|         null|                null|         null|                null|         null|                null|         null|                null|         null|                null|         null|                null|         null|                null|         null|                null|         null|                null|         null|                null|         null|                null|         null|                null|         null|                null|         null|                null|         null|                null|         null|                null|         null|                null|         null|\n",
      "|2019-03-13|22d96dd0f90c0010|DELLBOSS VD|  480036847616|      0|              null|       null|              null|       null|              null|       null|              null|       null|              null|       null|              null|       null|              null|       null|              null|       null|               null|        null|               null|        null|               null|        null|               null|        null|               null|        null|               null|        null|               null|        null|               null|        null|               null|        null|               null|        null|                null|         null|                null|         null|                null|         null|                null|         null|                null|         null|                null|         null|                null|         null|                null|         null|                null|         null|                null|         null|                null|         null|                null|         null|                null|         null|                null|         null|                null|         null|                null|         null|                null|         null|                null|         null|                null|         null|                null|         null|                null|         null|                null|         null|                null|         null|                null|         null|                null|         null|                null|         null|                null|         null|                null|         null|                null|         null|                null|         null|                null|         null|                null|         null|                null|         null|                null|         null|                null|         null|                null|         null|                null|         null|                null|         null|                null|         null|                null|         null|                null|         null|                null|         null|                null|         null|                null|         null|\n",
      "|2019-03-13|1f157071f4590010|DELLBOSS VD|  480036847616|      0|              null|       null|              null|       null|              null|       null|              null|       null|              null|       null|              null|       null|              null|       null|              null|       null|               null|        null|               null|        null|               null|        null|               null|        null|               null|        null|               null|        null|               null|        null|               null|        null|               null|        null|               null|        null|                null|         null|                null|         null|                null|         null|                null|         null|                null|         null|                null|         null|                null|         null|                null|         null|                null|         null|                null|         null|                null|         null|                null|         null|                null|         null|                null|         null|                null|         null|                null|         null|                null|         null|                null|         null|                null|         null|                null|         null|                null|         null|                null|         null|                null|         null|                null|         null|                null|         null|                null|         null|                null|         null|                null|         null|                null|         null|                null|         null|                null|         null|                null|         null|                null|         null|                null|         null|                null|         null|                null|         null|                null|         null|                null|         null|                null|         null|                null|         null|                null|         null|                null|         null|                null|         null|                null|         null|\n",
      "|2019-03-13|76db3b83c3b30010|DELLBOSS VD|  480036847616|      0|              null|       null|              null|       null|              null|       null|              null|       null|              null|       null|              null|       null|              null|       null|              null|       null|               null|        null|               null|        null|               null|        null|               null|        null|               null|        null|               null|        null|               null|        null|               null|        null|               null|        null|               null|        null|                null|         null|                null|         null|                null|         null|                null|         null|                null|         null|                null|         null|                null|         null|                null|         null|                null|         null|                null|         null|                null|         null|                null|         null|                null|         null|                null|         null|                null|         null|                null|         null|                null|         null|                null|         null|                null|         null|                null|         null|                null|         null|                null|         null|                null|         null|                null|         null|                null|         null|                null|         null|                null|         null|                null|         null|                null|         null|                null|         null|                null|         null|                null|         null|                null|         null|                null|         null|                null|         null|                null|         null|                null|         null|                null|         null|                null|         null|                null|         null|                null|         null|                null|         null|                null|         null|                null|         null|\n",
      "|2019-03-13|d2830942e1ca0010|DELLBOSS VD|  480036847616|      0|              null|       null|              null|       null|              null|       null|              null|       null|              null|       null|              null|       null|              null|       null|              null|       null|               null|        null|               null|        null|               null|        null|               null|        null|               null|        null|               null|        null|               null|        null|               null|        null|               null|        null|               null|        null|                null|         null|                null|         null|                null|         null|                null|         null|                null|         null|                null|         null|                null|         null|                null|         null|                null|         null|                null|         null|                null|         null|                null|         null|                null|         null|                null|         null|                null|         null|                null|         null|                null|         null|                null|         null|                null|         null|                null|         null|                null|         null|                null|         null|                null|         null|                null|         null|                null|         null|                null|         null|                null|         null|                null|         null|                null|         null|                null|         null|                null|         null|                null|         null|                null|         null|                null|         null|                null|         null|                null|         null|                null|         null|                null|         null|                null|         null|                null|         null|                null|         null|                null|         null|                null|         null|                null|         null|\n",
      "+----------+----------------+-----------+--------------+-------+------------------+-----------+------------------+-----------+------------------+-----------+------------------+-----------+------------------+-----------+------------------+-----------+------------------+-----------+------------------+-----------+-------------------+------------+-------------------+------------+-------------------+------------+-------------------+------------+-------------------+------------+-------------------+------------+-------------------+------------+-------------------+------------+-------------------+------------+-------------------+------------+--------------------+-------------+--------------------+-------------+--------------------+-------------+--------------------+-------------+--------------------+-------------+--------------------+-------------+--------------------+-------------+--------------------+-------------+--------------------+-------------+--------------------+-------------+--------------------+-------------+--------------------+-------------+--------------------+-------------+--------------------+-------------+--------------------+-------------+--------------------+-------------+--------------------+-------------+--------------------+-------------+--------------------+-------------+--------------------+-------------+--------------------+-------------+--------------------+-------------+--------------------+-------------+--------------------+-------------+--------------------+-------------+--------------------+-------------+--------------------+-------------+--------------------+-------------+--------------------+-------------+--------------------+-------------+--------------------+-------------+--------------------+-------------+--------------------+-------------+--------------------+-------------+--------------------+-------------+--------------------+-------------+--------------------+-------------+--------------------+-------------+--------------------+-------------+--------------------+-------------+--------------------+-------------+--------------------+-------------+--------------------+-------------+--------------------+-------------+\n",
      "\n"
     ]
    }
   ],
   "source": [
    "# order by capacity in descending and model in ascending order \n",
    "#using limit(20) to show first 20 rows only as mentioned in the question\n",
    "df_ordered = df_merged.orderBy(desc('capacity_bytes')).orderBy(asc('model')).limit(20)\n",
    "df_ordered.show()"
   ]
  },
  {
   "cell_type": "markdown",
   "metadata": {},
   "source": [
    "<b><font size = \"4\">Question 2(d)"
   ]
  },
  {
   "cell_type": "code",
   "execution_count": 7,
   "metadata": {},
   "outputs": [
    {
     "data": {
      "text/plain": [
       "9577046"
      ]
     },
     "execution_count": 7,
     "metadata": {},
     "output_type": "execute_result"
    }
   ],
   "source": [
    "#Count the total number of rows\n",
    "df_merged.count()"
   ]
  },
  {
   "cell_type": "markdown",
   "metadata": {},
   "source": [
    "<b><font size = \"4\">Question 2(e)"
   ]
  },
  {
   "cell_type": "code",
   "execution_count": 8,
   "metadata": {},
   "outputs": [
    {
     "name": "stdout",
     "output_type": "stream",
     "text": [
      "+--------------+-------+\n",
      "|capacity_bytes|  count|\n",
      "+--------------+-------+\n",
      "|  500107862016| 174254|\n",
      "|            -1|    993|\n",
      "|  480036847616|    540|\n",
      "| 4000787030016|3499483|\n",
      "|10000831348736| 109800|\n",
      "|14000519643136| 109378|\n",
      "|12000138625024|3228204|\n",
      "|  320072933376|    117|\n",
      "| 2000398934016|    265|\n",
      "| 5000981078016|   4050|\n",
      "|  160041885696|    307|\n",
      "|  137438952960|      1|\n",
      "| 1000204886016|     90|\n",
      "|  250059350016|    112|\n",
      "| 6001175126016| 168482|\n",
      "| 8001563222016|2280970|\n",
      "+--------------+-------+\n",
      "\n"
     ]
    }
   ],
   "source": [
    "# Count of the total number of rows, grouped by capacity(capacity_bytes in this case as that is the name of column in our data)\n",
    "df_groupbycount = df_merged.groupBy(\"capacity_bytes\")\n",
    "df_groupbycount.count().show()"
   ]
  },
  {
   "cell_type": "markdown",
   "metadata": {},
   "source": [
    "<b><font size = \"4\">Question 2(f)"
   ]
  },
  {
   "cell_type": "code",
   "execution_count": 5,
   "metadata": {},
   "outputs": [
    {
     "name": "stdout",
     "output_type": "stream",
     "text": [
      "+-------+----------+----------------+------------+--------------------+--------------------+------------------+-------------------+------------------+-----------------+------------------+------------------+-------------------+------------------+------------------+------------------+------------------+--------------------+------------------+----------------+------------------+------------------+-------------------+------------------+-------------------+-----------------+--------------------+------------------+-------------------+------------+-------------------+------------+-------------------+-----------------+-------------------+-----------------+-------------------+------------------+-------------------+------------+--------------------+------------+--------------------+-------------+--------------------+-----------------+--------------------+-------------------+--------------------+------------------+--------------------+------------------+--------------------+-------------+--------------------+-------------+--------------------+-------------+--------------------+------------------+--------------------+--------------------+--------------------+-------------------+--------------------+-------------------+--------------------+-----------------+--------------------+-----------------+--------------------+------------------+--------------------+------------------+--------------------+------------------+--------------------+------------------+--------------------+--------------------+--------------------+-------------------+--------------------+-----------------+--------------------+-------------------+--------------------+------------------+--------------------+------------------+--------------------+-------------+--------------------+-------------+--------------------+-------------------+--------------------+-----------------+--------------------+------------------+--------------------+-------------+--------------------+------------------+--------------------+------------------+--------------------+--------------------+--------------------+--------------------+--------------------+------------------+--------------------+-------------------+--------------------+--------------------+--------------------+--------------------+--------------------+--------------------+--------------------+--------------------+--------------------+-----------------+--------------------+-------------+--------------------+-------------+--------------------+-------------+\n",
      "|summary|      date|   serial_number|       model|      capacity_bytes|             failure|smart_1_normalized|        smart_1_raw|smart_2_normalized|      smart_2_raw|smart_3_normalized|       smart_3_raw| smart_4_normalized|       smart_4_raw|smart_5_normalized|       smart_5_raw|smart_7_normalized|         smart_7_raw|smart_8_normalized|     smart_8_raw|smart_9_normalized|       smart_9_raw|smart_10_normalized|      smart_10_raw|smart_11_normalized|     smart_11_raw| smart_12_normalized|      smart_12_raw|smart_13_normalized|smart_13_raw|smart_15_normalized|smart_15_raw|smart_16_normalized|     smart_16_raw|smart_17_normalized|     smart_17_raw|smart_22_normalized|      smart_22_raw|smart_23_normalized|smart_23_raw| smart_24_normalized|smart_24_raw|smart_168_normalized|smart_168_raw|smart_170_normalized|    smart_170_raw|smart_173_normalized|      smart_173_raw|smart_174_normalized|     smart_174_raw|smart_177_normalized|     smart_177_raw|smart_179_normalized|smart_179_raw|smart_181_normalized|smart_181_raw|smart_182_normalized|smart_182_raw|smart_183_normalized|     smart_183_raw|smart_184_normalized|       smart_184_raw|smart_187_normalized|      smart_187_raw|smart_188_normalized|      smart_188_raw|smart_189_normalized|    smart_189_raw|smart_190_normalized|    smart_190_raw|smart_191_normalized|     smart_191_raw|smart_192_normalized|     smart_192_raw|smart_193_normalized|     smart_193_raw|smart_194_normalized|     smart_194_raw|smart_195_normalized|       smart_195_raw|smart_196_normalized|      smart_196_raw|smart_197_normalized|    smart_197_raw|smart_198_normalized|      smart_198_raw|smart_199_normalized|     smart_199_raw|smart_200_normalized|     smart_200_raw|smart_201_normalized|smart_201_raw|smart_218_normalized|smart_218_raw|smart_220_normalized|      smart_220_raw|smart_222_normalized|    smart_222_raw|smart_223_normalized|     smart_223_raw|smart_224_normalized|smart_224_raw|smart_225_normalized|     smart_225_raw|smart_226_normalized|     smart_226_raw|smart_231_normalized|       smart_231_raw|smart_232_normalized|       smart_232_raw|smart_233_normalized|     smart_233_raw|smart_235_normalized|      smart_235_raw|smart_240_normalized|       smart_240_raw|smart_241_normalized|       smart_241_raw|smart_242_normalized|       smart_242_raw|smart_250_normalized|       smart_250_raw|smart_251_normalized|    smart_251_raw|smart_252_normalized|smart_252_raw|smart_254_normalized|smart_254_raw|smart_255_normalized|smart_255_raw|\n",
      "+-------+----------+----------------+------------+--------------------+--------------------+------------------+-------------------+------------------+-----------------+------------------+------------------+-------------------+------------------+------------------+------------------+------------------+--------------------+------------------+----------------+------------------+------------------+-------------------+------------------+-------------------+-----------------+--------------------+------------------+-------------------+------------+-------------------+------------+-------------------+-----------------+-------------------+-----------------+-------------------+------------------+-------------------+------------+--------------------+------------+--------------------+-------------+--------------------+-----------------+--------------------+-------------------+--------------------+------------------+--------------------+------------------+--------------------+-------------+--------------------+-------------+--------------------+-------------+--------------------+------------------+--------------------+--------------------+--------------------+-------------------+--------------------+-------------------+--------------------+-----------------+--------------------+-----------------+--------------------+------------------+--------------------+------------------+--------------------+------------------+--------------------+------------------+--------------------+--------------------+--------------------+-------------------+--------------------+-----------------+--------------------+-------------------+--------------------+------------------+--------------------+------------------+--------------------+-------------+--------------------+-------------+--------------------+-------------------+--------------------+-----------------+--------------------+------------------+--------------------+-------------+--------------------+------------------+--------------------+------------------+--------------------+--------------------+--------------------+--------------------+--------------------+------------------+--------------------+-------------------+--------------------+--------------------+--------------------+--------------------+--------------------+--------------------+--------------------+--------------------+--------------------+-----------------+--------------------+-------------+--------------------+-------------+--------------------+-------------+\n",
      "|  count|   9577046|         9577046|     9577046|             9577046|             9577046|           9575512|            9575512|           2119850|          2119850|           9573683|           9573683|            9573683|           9573683|           9573683|           9573683|           9573683|             9573683|           2119850|         2119850|           9575512|           9575512|            9573683|           9573683|             109638|           109638|             9575512|           9575512|                  0|           0|                  0|           0|               1829|             1829|               1829|             1829|             368253|            368253|             109378|      109378|              109378|      109378|                1829|         1829|                1829|             1829|                1829|               1829|                1829|              1829|                1829|              1829|                   0|            0|                   0|            0|                   0|            0|             2130339|           2130339|             4440134|             4440134|             7394928|            7394928|             7394928|            7394928|             4440134|          4440134|             7394928|          7394928|             4711032|           4711032|             9575456|           9575456|             9522894|           9522894|             9575512|           9575512|             5436922|             5436922|             2178755|            2178755|             9573683|          9573683|             9573683|            9573683|             9573683|           9573683|             3172987|           3172987|                   0|            0|                1829|         1829|              208315|             208315|              208315|           208315|              273088|            273088|              208315|       208315|               50733|             50733|              208315|            208315|                1829|                1829|                1829|                1829|                1829|              1829|                1829|               1829|             7610141|             7610141|             7411779|             7411779|             7411779|             7411779|                  85|                  85|                  85|               85|                  85|           85|               15628|        15628|                   0|            0|\n",
      "|   mean|      null|            null|        null|7.804058925479401E12|4.636085072578747...| 93.01237061788446|9.486098451047902E7|129.35408543057292|78.00450928131707| 97.34289029624232| 208.0281289865144|  99.99849524994717| 8.138458731086041|101.41666357659847| 7.513228503596787| 90.95698614629292|1.6845307911815567E9|114.40027218906998|30.6202070901243|  84.4578955151432|17119.239885762767| 100.79791121139064|24.466731768745632|  99.80868859337092|397.5867126361298|   99.99999248081983| 5.764923275120954|               null|        null|               null|        null|              100.0|92.37725533078185|              100.0|92.37725533078185|  99.99243726459798| 99.99243726459798|              100.0|         0.0|   99.99995428696813|         0.0|               100.0|          0.0|               100.0|541.3012575177693|               100.0|4.295296613921815E9|               100.0|1.6839803171131766|                 0.0| 2.049207217058502|                null|         null|                null|         null|                null|         null|   99.12698730108212| 3.028426461703982|   99.99806244586313|0.001937554136879...|    99.9354999805272|0.06992928125872219|   99.99999945908871| 1.19941028306699E8|    99.1430711325379|6.557256605318669|   70.74429014048548|29.25570985951452|   94.92514421468587|12075.168519339288|  101.00224407067402|176.31803237360185|   94.30057039383196|13926.684244096385|    66.2252751602212|29.233085186463136|   63.90782339713537|1.2197525688505077E8|  106.23151662302554|0.42250000573722146|  101.41842058066891|0.095898516798603|  100.80883187797214|0.09126351896130257|  199.99039993281582|0.4133412397297884|  100.00947057142055|3959.9077364640953|                null|         null|               100.0|          0.0|               100.0|4.046807521693109E7|   77.51878645320788|9192.997969421309|   99.92319325638621|159.62111846730724|               100.0|          0.0|   67.18853606134074|379333.55630457494|               100.0| 412.4791493651441|               100.0|1.099511627776999...|               100.0|3.870026190541192E11|               100.0|2827.3012575177695|               100.0|5.930354638241662E9|   99.96112450478907| 9.94288203492587E11|  100.01324918079722|4.409769927429327...|  100.01324918079722|9.927751756761423E10|                 1.0|1.0934246964705883E7|  26.623529411764707|48716.97647058823|               100.0|          0.0|  106.28359355003839|          0.0|                null|         null|\n",
      "| stddev|      null|            null|        null|3.573331210943868E12|0.006808722805189957|17.258726229128563|8.061669233654504E7|23.649912697962947|44.25979318248232|11.038323425783553|1022.4281920050031|0.12164830819683842|128.20421558898454|13.492537157490005|371.44300467655853|15.456738401390538|5.065144563619813...|22.619241364347097| 18.008463094634|12.812503678965765| 10280.49250312878| 11.038850776716567|1875.9792156359458|  0.615628427269112|748.5207068634287|0.002742102190401914|12.421429608005482|               null|        null|               null|        null|                0.0|31.07238754835249|                0.0|31.07238754835249| 0.4725154515739213|0.4725154515739213|                0.0|         0.0|0.012466901766585787|         0.0|                 0.0|          0.0|                 0.0|474.3083095858445|                 0.0| 301743.26194526703|                 0.0|0.8540483536791111|                 0.0|1.5171469521551502|                null|         null|                null|         null|                null|         null|   5.844404713314862|239.51579994922236|  0.2630148878665628|  0.2630148878665635|  1.0427906085694716|  3.538318207289808|7.354665625435782E-4|3.604996447445658E9|    5.49302090579853| 512.821345685991|   6.202509342994996|6.202509342995006|  14.553098210329384| 42209.12703132275|  11.492553783776042|1145.2735822446555|  16.679520874937786| 36175.17936494699|   71.88446893612301| 5.837206112616276|   31.95804210848079| 7.126226124139664E7|  27.749717257594696| 16.421639249801313|  13.475985586755163|4.779867023458557|  11.050786091840234|  4.769852113803595|   0.979710445652009|22.714906655577874|  1.0495341110151075|39686.847455918134|                null|         null|                 0.0|          0.0|                 0.0|7.164763548342921E7|  22.467830096712866|8985.364515397956|  0.4011885989824271| 512.7601318376535|                 0.0|          0.0|   32.52830197179741|439477.48458122334|                 0.0|153.74493230958888|                 0.0| 0.40152124804646033|                 0.0|1.715677603651008E10|                 0.0| 2103.925261250338|                 0.0|4.412229659357207E9|  1.3419972871063546|1.361161482603071...|  1.1509746815914124|1.368967332486977E10|  1.1509746815914124|2.367608270128784...|                 0.0|   9924276.022328952|   43.61819641873709|44201.93735841829|                 0.0|          0.0|  24.267539849147393|          0.0|                null|         null|\n",
      "|    min|2019-01-01|13a2651c44500010| DELLBOSS VD|                  -1|                   0|               100|                  0|               100|                0|               100|                 0|                100|                 1|               100|                 0|               100|                   0|               100|               0|               100|                 0|                100|                 0|                100|                0|                 100|                 0|               null|        null|               null|        null|                100|              107|                100|              107|                100|               100|                100|           0|                 100|           0|                 100|            0|                 100|             1397|                 100|         4294967297|                 100|                 1|                   0|                 0|                null|         null|                null|         null|                null|         null|                   1|                 0|                 100|                   0|                   1|                  0|                 100|                  0|                   1|                0|                  40|               14|                   1|                 0|                 100|                 0|                   1|                 1|                 100|                13|                   1|                   0|                 100|                  0|                 100|                0|                 100|                  0|                 100|                 0|                   1|                 0|                null|         null|                 100|            0|                 100|                  0|                 100|                0|                 100|                 0|                 100|            0|                   1|            100001|                 100|               159|                 100|     109951162777698|                 100|        279172874240|                 100|              1001|                 100|        10014866240|                 100|                   0|                 100|                   0|                 100|                   1|                   1|             1131553|                   1|           101157|                 100|            0|                 100|            0|                null|         null|\n",
      "|    max|2019-03-31|ef29e2d545380010|WDC WD60EFRX|       8001563222016|                   1|                99|           99999960|                92|               99|                99|                99|                 99|                99|                99|              9936|                99|           999999440|               252|              45|                99|              9999|                 95|             65538|                 99|             9994|                  99|                97|               null|        null|               null|        null|                100|               93|                100|               93|                 99|                99|                100|           0|                  99|           0|                 100|            0|                 100|              433|                 100|         4296736851|                 100|                 4|                   0|                 8|                null|         null|                null|         null|                null|         null|                  99|                99|                  99|                   9|                  99|                 95|                  99|        98785755159|                  99|               99|                  86|               60|                  99|             99999|                  99|              9999|                  99|             99999|                  99|                60|                  99|            99999936|                  98|                 99|                  99|              960|                  99|                960|                 200|               995|                  99|             99999|                null|         null|                 100|            0|                 100|             917507|                  99|             9999|                  99|              9994|                 100|            0|                  97|             99999|                 100|               648|                 100|     109951162777700|                 100|        420906795008|                 100|              9994|                 100|         9991814496|                  81|      99995428618925|                 200|           999997488|                 200|         99999999182|                   1|              969979|                 100|             9986|                 100|            0|                 200|            0|                null|         null|\n",
      "+-------+----------+----------------+------------+--------------------+--------------------+------------------+-------------------+------------------+-----------------+------------------+------------------+-------------------+------------------+------------------+------------------+------------------+--------------------+------------------+----------------+------------------+------------------+-------------------+------------------+-------------------+-----------------+--------------------+------------------+-------------------+------------+-------------------+------------+-------------------+-----------------+-------------------+-----------------+-------------------+------------------+-------------------+------------+--------------------+------------+--------------------+-------------+--------------------+-----------------+--------------------+-------------------+--------------------+------------------+--------------------+------------------+--------------------+-------------+--------------------+-------------+--------------------+-------------+--------------------+------------------+--------------------+--------------------+--------------------+-------------------+--------------------+-------------------+--------------------+-----------------+--------------------+-----------------+--------------------+------------------+--------------------+------------------+--------------------+------------------+--------------------+------------------+--------------------+--------------------+--------------------+-------------------+--------------------+-----------------+--------------------+-------------------+--------------------+------------------+--------------------+------------------+--------------------+-------------+--------------------+-------------+--------------------+-------------------+--------------------+-----------------+--------------------+------------------+--------------------+-------------+--------------------+------------------+--------------------+------------------+--------------------+--------------------+--------------------+--------------------+--------------------+------------------+--------------------+-------------------+--------------------+--------------------+--------------------+--------------------+--------------------+--------------------+--------------------+--------------------+--------------------+-----------------+--------------------+-------------+--------------------+-------------+--------------------+-------------+\n",
      "\n"
     ]
    }
   ],
   "source": [
    "#printing the dataframe summary statistics\n",
    "df_merged.describe().show()"
   ]
  },
  {
   "cell_type": "markdown",
   "metadata": {},
   "source": [
    "<b><font size = \"4\"> Question 2(g)"
   ]
  },
  {
   "cell_type": "code",
   "execution_count": 10,
   "metadata": {},
   "outputs": [
    {
     "name": "stdout",
     "output_type": "stream",
     "text": [
      "+----------+--------------------+--------------+\n",
      "|      date|               model|capacity_bytes|\n",
      "+----------+--------------------+--------------+\n",
      "|2019-03-05|         ST4000DM000| 4000787030016|\n",
      "|2019-03-05|       ST12000NM0007|12000138625024|\n",
      "|2019-03-05|       ST12000NM0007|12000138625024|\n",
      "|2019-03-05|       ST12000NM0007|12000138625024|\n",
      "|2019-03-05|HGST HMS5C4040ALE640| 4000787030016|\n",
      "|2019-03-05|        ST8000NM0055| 8001563222016|\n",
      "|2019-03-05|       ST12000NM0007|12000138625024|\n",
      "|2019-03-05|       ST12000NM0007|12000138625024|\n",
      "|2019-03-05|       ST12000NM0007|12000138625024|\n",
      "|2019-03-05|        ST8000NM0055| 8001563222016|\n",
      "|2019-03-05|         ST4000DM000| 4000787030016|\n",
      "|2019-03-05|         ST8000DM002| 8001563222016|\n",
      "|2019-03-05|       ST12000NM0007|12000138625024|\n",
      "|2019-03-05|        ST8000NM0055| 8001563222016|\n",
      "|2019-03-05|       ST12000NM0007|12000138625024|\n",
      "|2019-03-05|HGST HMS5C4040ALE640| 4000787030016|\n",
      "|2019-03-05|HGST HMS5C4040BLE640| 4000787030016|\n",
      "|2019-03-05|HGST HMS5C4040BLE640| 4000787030016|\n",
      "|2019-03-05| TOSHIBA MG07ACA14TA|14000519643136|\n",
      "|2019-03-05|HGST HMS5C4040BLE640| 4000787030016|\n",
      "+----------+--------------------+--------------+\n",
      "only showing top 20 rows\n",
      "\n"
     ]
    }
   ],
   "source": [
    "# Selecting the following columns: date, model, capacity\n",
    "df_showcolumns = df_merged.select(\"date\",\"model\",\"capacity_bytes\").limit(30)\n",
    "df_showcolumns.show()"
   ]
  },
  {
   "cell_type": "markdown",
   "metadata": {},
   "source": [
    "<b><font size = \"4\">Question 2(h)"
   ]
  },
  {
   "cell_type": "code",
   "execution_count": 11,
   "metadata": {},
   "outputs": [],
   "source": [
    "#Select the number of distinct models\n",
    "df_distinctmodel = df_merged.select('model').distinct()"
   ]
  },
  {
   "cell_type": "code",
   "execution_count": 12,
   "metadata": {},
   "outputs": [
    {
     "data": {
      "text/plain": [
       "49"
      ]
     },
     "execution_count": 12,
     "metadata": {},
     "output_type": "execute_result"
    }
   ],
   "source": [
    "#Displaying the count of the distinct models\n",
    "df_distinctmodel.count()"
   ]
  },
  {
   "cell_type": "markdown",
   "metadata": {},
   "source": [
    "<b><font size = \"4\"> Question 2(i)"
   ]
  },
  {
   "cell_type": "code",
   "execution_count": 16,
   "metadata": {},
   "outputs": [],
   "source": [
    "#Calculate the pairwise frequency of this two columns (e.g. crosstab):  capacity, smart_1_normalized\n",
    "df_pairwisefrequency = df_merged.select('capacity_bytes','smart_1_normalized').groupBy('capacity_bytes','smart_1_normalized').count()"
   ]
  },
  {
   "cell_type": "code",
   "execution_count": 17,
   "metadata": {},
   "outputs": [
    {
     "name": "stdout",
     "output_type": "stream",
     "text": [
      "+--------------+------------------+------+\n",
      "|capacity_bytes|smart_1_normalized| count|\n",
      "+--------------+------------------+------+\n",
      "| 8001563222016|                76| 81712|\n",
      "| 8001563222016|                60|     8|\n",
      "|12000138625024|                84|250937|\n",
      "|  500107862016|               119|     9|\n",
      "| 4000787030016|                88|    22|\n",
      "| 4000787030016|               115|136554|\n",
      "|  500107862016|                77|   708|\n",
      "|  320072933376|               113|     4|\n",
      "| 6001175126016|                66|    15|\n",
      "| 8001563222016|                51|     1|\n",
      "| 4000787030016|                73|   106|\n",
      "| 4000787030016|                97|   114|\n",
      "|            -1|              null|   993|\n",
      "|  500107862016|               149|     1|\n",
      "| 6001175126016|                99|   103|\n",
      "|10000831348736|                66|   437|\n",
      "|  320072933376|               114|    11|\n",
      "| 8001563222016|                62|    13|\n",
      "| 4000787030016|                92|    59|\n",
      "| 6001175126016|                64|     4|\n",
      "+--------------+------------------+------+\n",
      "only showing top 20 rows\n",
      "\n"
     ]
    }
   ],
   "source": [
    "#Displaying the results of above.\n",
    "df_pairwisefrequency.show()"
   ]
  },
  {
   "cell_type": "markdown",
   "metadata": {},
   "source": [
    "<b><font size = \"4\"> Question 2(j)"
   ]
  },
  {
   "cell_type": "code",
   "execution_count": 15,
   "metadata": {},
   "outputs": [
    {
     "name": "stdout",
     "output_type": "stream",
     "text": [
      "+--------------------+\n",
      "| avg(capacity_bytes)|\n",
      "+--------------------+\n",
      "|7.804058925479401E12|\n",
      "+--------------------+\n",
      "\n"
     ]
    }
   ],
   "source": [
    "#Find the mean value of column capacity(capacity_bytes in this case as that is the column name in the data provided)\n",
    "df_mean = df_merged.select(avg('capacity_bytes'))\n",
    "df_mean.show()"
   ]
  }
 ],
 "metadata": {
  "kernelspec": {
   "display_name": "Python 3",
   "language": "python",
   "name": "python3"
  },
  "language_info": {
   "codemirror_mode": {
    "name": "ipython",
    "version": 3
   },
   "file_extension": ".py",
   "mimetype": "text/x-python",
   "name": "python",
   "nbconvert_exporter": "python",
   "pygments_lexer": "ipython3",
   "version": "3.7.4"
  }
 },
 "nbformat": 4,
 "nbformat_minor": 2
}
